{
 "cells": [
  {
   "cell_type": "markdown",
   "id": "ecb2e6c4",
   "metadata": {},
   "source": [
    "# Classes and Instances in Python"
   ]
  },
  {
   "cell_type": "markdown",
   "id": "63af8b02",
   "metadata": {},
   "source": [
    "Ref: https://youtu.be/ZDa-Z5JzLYM"
   ]
  },
  {
   "cell_type": "code",
   "execution_count": 1,
   "id": "f4196155",
   "metadata": {},
   "outputs": [],
   "source": [
    "class Employee:\n",
    "    tax_rate=0;\n",
    "    def __init__(self,first,last,salary):\n",
    "        self.first = first  # First name \n",
    "        self.last=last      # last name \n",
    "        self.salary=salary        # salary \n",
    "        self.email = first.lower()+'.'+last.lower()+'@gmail.com'\n",
    "    # Function that will return the fullname of employee\n",
    "    def fullname(self): \n",
    "        return '{} {}'.format(self.first,self.last)\n",
    "    # Function that will ask the user for the tax rate return the amount of tax that employee need to pay\n",
    "    def tax(self,tax_rate=0):\n",
    "        tex_pay = self.salary*tax_rate\n",
    "        return round(tex_pay,2)"
   ]
  },
  {
   "cell_type": "code",
   "execution_count": 2,
   "id": "9c5f4191",
   "metadata": {},
   "outputs": [],
   "source": [
    "emp_1 = Employee('Isaac','Newton',5500)\n",
    "emp_2 = Employee('Albert','Einstein',5800)"
   ]
  },
  {
   "cell_type": "code",
   "execution_count": 3,
   "id": "1814afd8",
   "metadata": {},
   "outputs": [
    {
     "name": "stdout",
     "output_type": "stream",
     "text": [
      "Tax payment at 7%: 385.0\n",
      "Tax payment: 0\n"
     ]
    }
   ],
   "source": [
    "tax_rate = 7/100 # 7% tax rate\n",
    "print('Tax payment at 7%: '+str(emp_1.tax(tax_rate)))\n",
    "# 0% tax rate when the user does not declare\n",
    "print('Tax payment: '+str(emp_1.tax()))"
   ]
  },
  {
   "cell_type": "markdown",
   "id": "e6b0c3ce",
   "metadata": {},
   "source": [
    "<span style=\"color:blue\">Example for vector variables</span>  "
   ]
  },
  {
   "cell_type": "code",
   "execution_count": 4,
   "id": "213929d1",
   "metadata": {},
   "outputs": [],
   "source": [
    "import numpy as np\n",
    "class Vectors:\n",
    "    v3=np.array([0,0]) # set a defult vector for v3 to [0,0]\n",
    "    def __init__(self,v1,v2,v3=v3):\n",
    "        self.v1=v1\n",
    "        self.v2=v2\n",
    "        self.v3=v3 # This vector has a defult vector [0,0]"
   ]
  },
  {
   "cell_type": "code",
   "execution_count": 5,
   "id": "19fd97aa",
   "metadata": {},
   "outputs": [],
   "source": [
    "v_1=np.array([1,2])\n",
    "v_2=np.array([3,5])\n",
    "vec_0 = Vectors(v_1,v_2)"
   ]
  },
  {
   "cell_type": "code",
   "execution_count": 6,
   "id": "68502a47",
   "metadata": {},
   "outputs": [
    {
     "data": {
      "text/plain": [
       "array([1, 2])"
      ]
     },
     "execution_count": 6,
     "metadata": {},
     "output_type": "execute_result"
    }
   ],
   "source": [
    "vec_0.v1"
   ]
  },
  {
   "cell_type": "code",
   "execution_count": 7,
   "id": "61eb7dbb",
   "metadata": {},
   "outputs": [
    {
     "data": {
      "text/plain": [
       "array([3, 5])"
      ]
     },
     "execution_count": 7,
     "metadata": {},
     "output_type": "execute_result"
    }
   ],
   "source": [
    "vec_0.v2"
   ]
  },
  {
   "cell_type": "code",
   "execution_count": 8,
   "id": "4529642c",
   "metadata": {},
   "outputs": [
    {
     "data": {
      "text/plain": [
       "array([0, 0])"
      ]
     },
     "execution_count": 8,
     "metadata": {},
     "output_type": "execute_result"
    }
   ],
   "source": [
    "vec_0.v3"
   ]
  },
  {
   "cell_type": "code",
   "execution_count": 9,
   "id": "e4a336c8",
   "metadata": {},
   "outputs": [
    {
     "data": {
      "text/plain": [
       "array([8, 8])"
      ]
     },
     "execution_count": 9,
     "metadata": {},
     "output_type": "execute_result"
    }
   ],
   "source": [
    "vec_0.v3=np.array([8,8])\n",
    "vec_0.v3"
   ]
  },
  {
   "cell_type": "code",
   "execution_count": 10,
   "id": "d51ccf5d",
   "metadata": {},
   "outputs": [
    {
     "data": {
      "text/plain": [
       "array([ 9, 10])"
      ]
     },
     "execution_count": 10,
     "metadata": {},
     "output_type": "execute_result"
    }
   ],
   "source": [
    "vec_0.v3+vec_0.v1"
   ]
  }
 ],
 "metadata": {
  "kernelspec": {
   "display_name": "Python 3 (ipykernel)",
   "language": "python",
   "name": "python3"
  },
  "language_info": {
   "codemirror_mode": {
    "name": "ipython",
    "version": 3
   },
   "file_extension": ".py",
   "mimetype": "text/x-python",
   "name": "python",
   "nbconvert_exporter": "python",
   "pygments_lexer": "ipython3",
   "version": "3.7.11"
  }
 },
 "nbformat": 4,
 "nbformat_minor": 5
}
