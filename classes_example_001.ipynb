{
 "cells": [
  {
   "cell_type": "markdown",
   "id": "53803d83",
   "metadata": {},
   "source": [
    "<font size=\"5\"> Classes and Instances in Python </font> "
   ]
  },
  {
   "cell_type": "markdown",
   "id": "f520fc97",
   "metadata": {},
   "source": [
    "Ref: https://youtu.be/ZDa-Z5JzLYM"
   ]
  },
  {
   "cell_type": "code",
   "execution_count": 1,
   "id": "010fabba",
   "metadata": {},
   "outputs": [],
   "source": [
    "class Employee:\n",
    "    def __init__(self,first,last,salary):\n",
    "        self.first = first  # First name \n",
    "        self.last=last      # last name \n",
    "        self.salary=salary        # salary \n",
    "        self.name=first+' '+last      # last name\n",
    "        self.email = first.lower()+'.'+last.lower()+'@gmail.com'"
   ]
  },
  {
   "cell_type": "code",
   "execution_count": 2,
   "id": "15541227",
   "metadata": {},
   "outputs": [
    {
     "name": "stdout",
     "output_type": "stream",
     "text": [
      "Employee 1\n",
      "Name: Isaac Newton\n",
      "E-mail: isaac.newton@gmail.com\n",
      "Salary: 5000\n",
      "\n",
      "Employee 2\n",
      "Name: Albert Einstein\n",
      "E-mail: albert.einstein@gmail.com\n",
      "Salary: 5000\n"
     ]
    }
   ],
   "source": [
    "emp_1 = Employee('Isaac','Newton',5000)\n",
    "emp_2 = Employee('Albert','Einstein',5000)\n",
    "\n",
    "print('Employee 1')\n",
    "print('Name: '+ emp_1.name)\n",
    "print('E-mail: '+ emp_1.email)\n",
    "print('Salary: '+ str(emp_1.salary))\n",
    "print()\n",
    "print('Employee 2')\n",
    "print('Name: '+ emp_2.name)\n",
    "print('E-mail: '+ emp_2.email)\n",
    "print('Salary: '+ str(emp_2.salary))"
   ]
  }
 ],
 "metadata": {
  "kernelspec": {
   "display_name": "Python 3 (ipykernel)",
   "language": "python",
   "name": "python3"
  },
  "language_info": {
   "codemirror_mode": {
    "name": "ipython",
    "version": 3
   },
   "file_extension": ".py",
   "mimetype": "text/x-python",
   "name": "python",
   "nbconvert_exporter": "python",
   "pygments_lexer": "ipython3",
   "version": "3.7.11"
  }
 },
 "nbformat": 4,
 "nbformat_minor": 5
}
