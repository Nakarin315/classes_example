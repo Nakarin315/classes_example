{
 "cells": [
  {
   "cell_type": "markdown",
   "id": "53803d83",
   "metadata": {},
   "source": [
    "<font size=\"5\"> Classes and Instances in Python </font> "
   ]
  },
  {
   "cell_type": "markdown",
   "id": "f520fc97",
   "metadata": {},
   "source": [
    "Ref: https://youtu.be/ZDa-Z5JzLYM"
   ]
  },
  {
   "cell_type": "code",
   "execution_count": 16,
   "id": "010fabba",
   "metadata": {},
   "outputs": [],
   "source": [
    "class Employee:\n",
    "    def __init__(self,first,last,salary):\n",
    "        self.first = first  # First name \n",
    "        self.last=last      # last name \n",
    "        self.salary=salary        # salary \n",
    "        self.name=first+' '+last      # last name\n",
    "        self.email = first.lower()+'.'+last.lower()+'@gmail.com'"
   ]
  },
  {
   "cell_type": "code",
   "execution_count": 17,
   "id": "15541227",
   "metadata": {},
   "outputs": [],
   "source": [
    "emp_1 = Employee('Isaac','Newton',5000)\n",
    "emp_2 = Employee('Albert','Einstein',5800)"
   ]
  },
  {
   "cell_type": "code",
   "execution_count": 18,
   "id": "0ebd27f0",
   "metadata": {},
   "outputs": [
    {
     "name": "stdout",
     "output_type": "stream",
     "text": [
      "Employee 1\n",
      "Name: Isaac Newton\n",
      "E-mail: isaac.newton@gmail.com\n",
      "Salary: 5000\n",
      "\n",
      "Employee 2\n",
      "Name: Albert Einstein\n",
      "E-mail: albert.einstein@gmail.com\n",
      "Salary: 5800\n"
     ]
    }
   ],
   "source": [
    "print('Employee 1')\n",
    "print('Name: '+ emp_1.name)\n",
    "print('E-mail: '+ emp_1.email)\n",
    "print('Salary: '+ str(emp_1.salary))\n",
    "print()\n",
    "print('Employee 2')\n",
    "print('Name: '+ emp_2.name)\n",
    "print('E-mail: '+ emp_2.email)\n",
    "print('Salary: '+ str(emp_2.salary))"
   ]
  },
  {
   "cell_type": "markdown",
   "id": "886be314",
   "metadata": {},
   "source": [
    "<span style=\"color:blue\">we can also get the fullname by doing this</span> "
   ]
  },
  {
   "cell_type": "code",
   "execution_count": 19,
   "id": "43f82daf",
   "metadata": {},
   "outputs": [
    {
     "name": "stdout",
     "output_type": "stream",
     "text": [
      "Name: Isaac Newton\n"
     ]
    }
   ],
   "source": [
    "fullname = '{} {}'.format(emp_1.first,emp_1.last)\n",
    "print('Name: '+ fullname)"
   ]
  },
  {
   "cell_type": "code",
   "execution_count": 20,
   "id": "088270f7",
   "metadata": {},
   "outputs": [
    {
     "name": "stdout",
     "output_type": "stream",
     "text": [
      "Name and salary: Isaac and 5000\n"
     ]
    }
   ],
   "source": [
    "name_salary = '{} and {}'.format(emp_1.first,emp_1.salary)\n",
    "print('Name and salary: '+ name_salary )"
   ]
  }
 ],
 "metadata": {
  "kernelspec": {
   "display_name": "Python 3 (ipykernel)",
   "language": "python",
   "name": "python3"
  },
  "language_info": {
   "codemirror_mode": {
    "name": "ipython",
    "version": 3
   },
   "file_extension": ".py",
   "mimetype": "text/x-python",
   "name": "python",
   "nbconvert_exporter": "python",
   "pygments_lexer": "ipython3",
   "version": "3.7.11"
  }
 },
 "nbformat": 4,
 "nbformat_minor": 5
}
