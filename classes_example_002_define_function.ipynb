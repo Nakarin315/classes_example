{
 "cells": [
  {
   "cell_type": "markdown",
   "id": "ecb2e6c4",
   "metadata": {},
   "source": [
    "# Classes and Instances in Python"
   ]
  },
  {
   "cell_type": "markdown",
   "id": "63af8b02",
   "metadata": {},
   "source": [
    "Ref: https://youtu.be/ZDa-Z5JzLYM"
   ]
  },
  {
   "cell_type": "code",
   "execution_count": 1,
   "id": "f4196155",
   "metadata": {},
   "outputs": [],
   "source": [
    "class Employee:\n",
    "    def __init__(self,first,last,salary):\n",
    "        self.first = first  # First name \n",
    "        self.last=last      # last name \n",
    "        self.salary=salary        # salary \n",
    "        self.email = first.lower()+'.'+last.lower()+'@gmail.com'\n",
    "    # Function that will return the fullname of employee\n",
    "    def fullname(self): \n",
    "        return '{} {}'.format(self.first,self.last)\n",
    "    # Function that will ask the user for the tax rate return the amount of tax that employee need to pay\n",
    "    def tax(self,tax_rate):\n",
    "        tex_pay = self.salary*tax_rate\n",
    "        return round(tex_pay,2)"
   ]
  },
  {
   "cell_type": "code",
   "execution_count": 2,
   "id": "9c5f4191",
   "metadata": {},
   "outputs": [],
   "source": [
    "emp_1 = Employee('Isaac','Newton',5500)\n",
    "emp_2 = Employee('Albert','Einstein',5800)"
   ]
  },
  {
   "cell_type": "code",
   "execution_count": 3,
   "id": "4510bf82",
   "metadata": {},
   "outputs": [
    {
     "name": "stdout",
     "output_type": "stream",
     "text": [
      "Isaac Newton\n"
     ]
    }
   ],
   "source": [
    "print(emp_1.fullname())"
   ]
  },
  {
   "cell_type": "code",
   "execution_count": 4,
   "id": "1814afd8",
   "metadata": {},
   "outputs": [
    {
     "name": "stdout",
     "output_type": "stream",
     "text": [
      "385.0\n"
     ]
    }
   ],
   "source": [
    "tax_rate = 7/100 # 7% tax rate\n",
    "print(emp_1.tax(tax_rate))"
   ]
  }
 ],
 "metadata": {
  "kernelspec": {
   "display_name": "Python 3 (ipykernel)",
   "language": "python",
   "name": "python3"
  },
  "language_info": {
   "codemirror_mode": {
    "name": "ipython",
    "version": 3
   },
   "file_extension": ".py",
   "mimetype": "text/x-python",
   "name": "python",
   "nbconvert_exporter": "python",
   "pygments_lexer": "ipython3",
   "version": "3.7.11"
  }
 },
 "nbformat": 4,
 "nbformat_minor": 5
}
